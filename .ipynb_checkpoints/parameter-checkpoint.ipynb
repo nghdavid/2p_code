{
 "cells": [
  {
   "cell_type": "code",
   "execution_count": null,
   "id": "8dc3250f",
   "metadata": {},
   "outputs": [],
   "source": [
    "#Zoom factor 5"
   ]
  },
  {
   "cell_type": "code",
   "execution_count": null,
   "id": "7930cd72",
   "metadata": {},
   "outputs": [],
   "source": []
  },
  {
   "cell_type": "code",
   "execution_count": null,
   "id": "ba701c58",
   "metadata": {},
   "outputs": [],
   "source": [
    "#Zoom factor 6"
   ]
  },
  {
   "cell_type": "code",
   "execution_count": null,
   "id": "2a0f2929",
   "metadata": {},
   "outputs": [],
   "source": []
  },
  {
   "cell_type": "code",
   "execution_count": null,
   "id": "5ad23df4",
   "metadata": {},
   "outputs": [],
   "source": [
    "#Zoom factor 7"
   ]
  },
  {
   "cell_type": "code",
   "execution_count": null,
   "id": "dc604930",
   "metadata": {},
   "outputs": [],
   "source": [
    "rf = 18                     # half-size of the patches in pixels. e.g., if rf=25, patches are 50x50\n",
    "#Should be at least 3 to 4 times larger than the expected neuron size to capture the complete neuron and its local background.\n",
    "stride_cnmf = 12             # amount of overlap between the patches in pixels\n",
    "#This should be roughly the neuron diameter. Larger overlap increases computational load, but yields better results during reconstruction/denoising of the data.\n",
    "K = 4                       # Number of (expected) components per patch.\n",
    "gSig = [6, 6]               # expected half size of neurons in pixels, CRUCIAL parameter for proper component detection."
   ]
  },
  {
   "cell_type": "code",
   "execution_count": null,
   "id": "a8df1a82",
   "metadata": {},
   "outputs": [],
   "source": [
    "#Zoom factor 8"
   ]
  },
  {
   "cell_type": "code",
   "execution_count": null,
   "id": "d9f5adc1",
   "metadata": {},
   "outputs": [],
   "source": []
  },
  {
   "cell_type": "code",
   "execution_count": null,
   "id": "2e9e9689",
   "metadata": {},
   "outputs": [],
   "source": [
    "#Zoom factor 9"
   ]
  }
 ],
 "metadata": {
  "kernelspec": {
   "display_name": "Python 3 (ipykernel)",
   "language": "python",
   "name": "python3"
  },
  "language_info": {
   "codemirror_mode": {
    "name": "ipython",
    "version": 3
   },
   "file_extension": ".py",
   "mimetype": "text/x-python",
   "name": "python",
   "nbconvert_exporter": "python",
   "pygments_lexer": "ipython3",
   "version": "3.9.6"
  },
  "toc": {
   "base_numbering": 1,
   "nav_menu": {},
   "number_sections": true,
   "sideBar": true,
   "skip_h1_title": false,
   "title_cell": "Table of Contents",
   "title_sidebar": "Contents",
   "toc_cell": false,
   "toc_position": {},
   "toc_section_display": true,
   "toc_window_display": false
  },
  "varInspector": {
   "cols": {
    "lenName": 16,
    "lenType": 16,
    "lenVar": 40
   },
   "kernels_config": {
    "python": {
     "delete_cmd_postfix": "",
     "delete_cmd_prefix": "del ",
     "library": "var_list.py",
     "varRefreshCmd": "print(var_dic_list())"
    },
    "r": {
     "delete_cmd_postfix": ") ",
     "delete_cmd_prefix": "rm(",
     "library": "var_list.r",
     "varRefreshCmd": "cat(var_dic_list()) "
    }
   },
   "types_to_exclude": [
    "module",
    "function",
    "builtin_function_or_method",
    "instance",
    "_Feature"
   ],
   "window_display": false
  }
 },
 "nbformat": 4,
 "nbformat_minor": 5
}
