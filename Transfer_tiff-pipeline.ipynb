{
 "cells": [
  {
   "cell_type": "markdown",
   "id": "ab91c3e3",
   "metadata": {},
   "source": [
    "This program transfer the raw tiff file from scanimage to useful and convenient format  <br /> \n",
    "If the tiff file is volumetric, different slices will be separated and saved into different files. The last number of the file is the number of slices. \n"
   ]
  },
  {
   "cell_type": "code",
   "execution_count": 1,
   "id": "a96df9d8",
   "metadata": {
    "ExecuteTime": {
     "end_time": "2021-10-08T09:35:02.657721Z",
     "start_time": "2021-10-08T09:35:00.302194Z"
    }
   },
   "outputs": [],
   "source": [
    "from ScanImageTiffReader import ScanImageTiffReader\n",
    "import matplotlib.pyplot as plt\n",
    "import matplotlib.image as mpimg\n",
    "import numpy as np\n",
    "import imageio\n",
    "import os\n",
    "import caiman as cm\n",
    "from os import listdir\n",
    "from os.path import isfile, join\n",
    "import json\n",
    "import scipy.io\n",
    "from scipy import stats"
   ]
  },
  {
   "cell_type": "code",
   "execution_count": 2,
   "id": "c77a66ab",
   "metadata": {
    "ExecuteTime": {
     "end_time": "2021-10-08T09:35:02.661744Z",
     "start_time": "2021-10-08T09:35:02.658963Z"
    }
   },
   "outputs": [],
   "source": [
    "#The function can find specific parameter in metadata\n",
    "def find_tag(metadata,name):\n",
    "    string = metadata.find(name)\n",
    "    temp_str = metadata[string:string+40]\n",
    "    end = temp_str.find('\\n')\n",
    "    start = len(name)+3\n",
    "    if name == 'scanFrameRate' or name == 'frameTimestamps_sec':\n",
    "        value = float(temp_str[start:end])\n",
    "    else:\n",
    "        value = int(temp_str[start:end])\n",
    "    return value"
   ]
  },
  {
   "cell_type": "code",
   "execution_count": 3,
   "id": "6cc34b33",
   "metadata": {
    "ExecuteTime": {
     "end_time": "2021-10-08T09:35:02.667440Z",
     "start_time": "2021-10-08T09:35:02.663480Z"
    }
   },
   "outputs": [],
   "source": [
    "path = '/media/david/hdd1/David_GCAMP/20211007'#Choose the path that store your tif\n",
    "save_data = 0\n",
    "os.chdir(path)\n",
    "cwd = os.getcwd()\n",
    "if not os.path.isdir(cwd+'/tag'):\n",
    "    os.mkdir(cwd+'/tag')\n",
    "if not os.path.isdir(cwd+'/sliced_data'):\n",
    "    os.mkdir(cwd+'/sliced_data')\n",
    "files = [f for f in listdir(path+'/raw') if isfile(join(path+'/raw', f))]"
   ]
  },
  {
   "cell_type": "code",
   "execution_count": 4,
   "id": "75fe0820",
   "metadata": {
    "ExecuteTime": {
     "end_time": "2021-10-08T09:35:02.671443Z",
     "start_time": "2021-10-08T09:35:02.668160Z"
    }
   },
   "outputs": [],
   "source": [
    "stimulus = scipy.io.loadmat(cwd+'/stimulus/'+'stimulus.mat')['volts']\n",
    "rate = 20000"
   ]
  },
  {
   "cell_type": "code",
   "execution_count": 10,
   "id": "821f0fe5",
   "metadata": {
    "ExecuteTime": {
     "end_time": "2021-10-08T09:36:58.649304Z",
     "start_time": "2021-10-08T09:36:58.644892Z"
    }
   },
   "outputs": [
    {
     "data": {
      "text/plain": [
       "array([[ 10,  10,  10, ..., -10, -10, -10]], dtype=int16)"
      ]
     },
     "execution_count": 10,
     "metadata": {},
     "output_type": "execute_result"
    }
   ],
   "source": [
    "stimulus"
   ]
  },
  {
   "cell_type": "code",
   "execution_count": 12,
   "id": "ece5a82c",
   "metadata": {
    "ExecuteTime": {
     "end_time": "2021-10-08T09:38:02.266321Z",
     "start_time": "2021-10-08T09:38:01.468310Z"
    }
   },
   "outputs": [
    {
     "name": "stdout",
     "output_type": "stream",
     "text": [
      "file_00006.tif\n",
      "The acutual number of frames per slice is 1\n",
      "The acutual number of slice is 3\n",
      "The acutual number of volumes is 300\n",
      "The total frames is 900\n",
      "The number of frames per volume is 3\n",
      "The zoom factor is 1\n",
      "\n"
     ]
    }
   ],
   "source": [
    "for filename in files:\n",
    "    #Read tiff file\n",
    "    reader=ScanImageTiffReader(cwd+'/raw/'+filename)\n",
    "    vol=reader.data()\n",
    "    metadata =reader.metadata()\n",
    "    #Read tag\n",
    "    total_volume = find_tag(metadata,'actualNumVolumes')\n",
    "    framesPerSlice = find_tag(metadata,'framesPerSlice')\n",
    "    num_slice = find_tag(metadata,'actualNumSlices')\n",
    "    FrameRate = find_tag(metadata,'scanFrameRate')\n",
    "    numFramesPerVolume = find_tag(metadata,'numFramesPerVolume')\n",
    "    pixelsPerLine = find_tag(metadata,'pixelsPerLine')\n",
    "    linesPerFrame = find_tag(metadata,'linesPerFrame')\n",
    "    scanZoomFactor = find_tag(metadata,'scanZoomFactor')\n",
    "    stackZStepSize = find_tag(metadata,'stackZStepSize')\n",
    "    length = framesPerSlice*total_volume#time step\n",
    "    frameTimestamps = np.zeros((num_slice,total_volume*framesPerSlice))\n",
    "    #Store tag\n",
    "    tag = {'total_volume':total_volume,'framesPerSlice':framesPerSlice,'framesPerSlice':framesPerSlice,'num_slice':num_slice,'FrameRate':FrameRate,'numFramesPerVolume':numFramesPerVolume,'pixelsPerLine':pixelsPerLine,'linesPerFrame':linesPerFrame,'scanZoomFactor':scanZoomFactor,'stackZStepSize':stackZStepSize,'metadata':metadata,'length':length,'frameTimestamps':frameTimestamps}\n",
    "    frameStimulus = np.zeros((num_slice,total_volume*framesPerSlice))\n",
    "    \n",
    "    for frame in range(total_volume*framesPerSlice*num_slice):\n",
    "        slice = frame%num_slice\n",
    "        timestamp = find_tag(reader.description(frame),'frameTimestamps_sec')\n",
    "        frameTimestamps[slice,frame//num_slice] = timestamp\n",
    "        step_stimulus = stimulus[0,int(timestamp*rate):int((timestamp+1/framesPerSlice)*rate)]\n",
    "        frameStimulus[slice,frame//num_slice] = stats.mode(step_stimulus)[0][0]\n",
    "    \n",
    "    \n",
    "    if save_data:\n",
    "        with open(cwd+'/tag/'+filename[0:-4]+'.json', 'w') as f:\n",
    "            json.dump(tag, f)\n",
    "    real_data = np.zeros((framesPerSlice*total_volume,vol.shape[1],vol.shape[2],num_slice))\n",
    "    #Reshape the data (Seperate different layers)\n",
    "    for slice in range(num_slice):\n",
    "        for volume in range(total_volume):\n",
    "            real_data[framesPerSlice*volume:framesPerSlice*volume+framesPerSlice,:,:,slice] = vol[numFramesPerVolume*volume+(slice*framesPerSlice):numFramesPerVolume*volume+(slice+1)*framesPerSlice,:,:]\n",
    "    #Store the data into different slices\n",
    "    for i in range(num_slice):\n",
    "        sliced_data = real_data[:,:,:,0].reshape((framesPerSlice*total_volume,vol.shape[1],vol.shape[2]))\n",
    "        sliced_movie = cm.movie(sliced_data)\n",
    "        if save_data:\n",
    "            sliced_movie.save(cwd+'/sliced_data/'+filename[0:-4]+'_'+str(i+1)+'.tif')\n",
    "    print(filename)\n",
    "    print('The acutual number of frames per slice is ' + str(framesPerSlice))\n",
    "    print('The acutual number of slice is ' + str(num_slice))\n",
    "    print('The acutual number of volumes is ' + str(total_volume))\n",
    "    print('The total frames is ' + str(total_volume*framesPerSlice*num_slice))\n",
    "    print('The number of frames per volume is ' + str(numFramesPerVolume))\n",
    "    print('The zoom factor is '+str(scanZoomFactor))\n",
    "    print('')"
   ]
  },
  {
   "cell_type": "code",
   "execution_count": 13,
   "id": "638cb3e0",
   "metadata": {
    "ExecuteTime": {
     "end_time": "2021-10-08T09:38:04.001981Z",
     "start_time": "2021-10-08T09:38:03.992648Z"
    }
   },
   "outputs": [
    {
     "data": {
      "text/plain": [
       "array([[-10., -10., -10., -10., -10., -10., -10., -10., -10., -10., -10.,\n",
       "        -10., -10., -10., -10., -10., -10., -10., -10., -10., -10., -10.,\n",
       "        -10., -10., -10., -10., -10., -10., -10., -10., -10., -10., -10.,\n",
       "        -10., -10., -10., -10., -10., -10., -10., -10., -10., -10., -10.,\n",
       "        -10., -10., -10., -10., -10., -10., -10., -10., -10., -10., -10.,\n",
       "        -10., -10., -10., -10., -10., -10., -10., -10., -10., -10., -10.,\n",
       "        -10., -10., -10., -10., -10., -10., -10., -10., -10., -10., -10.,\n",
       "        -10., -10., -10., -10., -10., -10., -10., -10., -10., -10., -10.,\n",
       "        -10., -10., -10., -10., -10., -10., -10., -10., -10., -10., -10.,\n",
       "        -10., -10., -10., -10., -10., -10., -10., -10., -10., -10., -10.,\n",
       "        -10., -10., -10., -10., -10., -10., -10., -10., -10., -10., -10.,\n",
       "        -10., -10., -10., -10., -10., -10., -10., -10., -10., -10., -10.,\n",
       "        -10., -10., -10., -10., -10., -10., -10., -10., -10., -10., -10.,\n",
       "        -10., -10., -10., -10., -10., -10., -10., -10., -10., -10., -10.,\n",
       "        -10., -10., -10., -10., -10., -10., -10., -10., -10., -10., -10.,\n",
       "        -10., -10., -10., -10., -10., -10., -10., -10., -10., -10., -10.,\n",
       "        -10., -10., -10., -10., -10., -10., -10., -10., -10., -10., -10.,\n",
       "        -10., -10., -10., -10., -10., -10., -10., -10., -10., -10., -10.,\n",
       "        -10., -10., -10., -10., -10., -10., -10., -10., -10., -10., -10.,\n",
       "        -10., -10., -10., -10., -10., -10., -10., -10., -10., -10., -10.,\n",
       "        -10., -10., -10., -10., -10., -10., -10., -10., -10., -10., -10.,\n",
       "        -10., -10., -10., -10., -10., -10., -10., -10., -10., -10., -10.,\n",
       "        -10., -10., -10., -10., -10., -10., -10., -10., -10., -10., -10.,\n",
       "        -10., -10., -10., -10., -10., -10., -10., -10., -10., -10., -10.,\n",
       "        -10., -10., -10., -10., -10., -10., -10., -10., -10., -10., -10.,\n",
       "        -10., -10., -10., -10., -10., -10., -10., -10., -10., -10., -10.,\n",
       "        -10., -10., -10., -10., -10., -10., -10., -10., -10., -10., -10.,\n",
       "        -10., -10., -10.],\n",
       "       [-10., -10., -10., -10., -10., -10., -10., -10., -10., -10., -10.,\n",
       "        -10., -10., -10., -10., -10., -10., -10., -10., -10., -10., -10.,\n",
       "        -10., -10., -10., -10., -10., -10., -10., -10., -10., -10., -10.,\n",
       "        -10., -10., -10., -10., -10., -10., -10., -10., -10., -10., -10.,\n",
       "        -10., -10., -10., -10., -10., -10., -10., -10., -10., -10., -10.,\n",
       "        -10., -10., -10., -10., -10., -10., -10., -10., -10., -10., -10.,\n",
       "        -10., -10., -10., -10., -10., -10., -10., -10., -10., -10., -10.,\n",
       "        -10., -10., -10., -10., -10., -10., -10., -10., -10., -10., -10.,\n",
       "        -10., -10., -10., -10., -10., -10., -10., -10., -10., -10., -10.,\n",
       "        -10., -10., -10., -10., -10., -10., -10., -10., -10., -10., -10.,\n",
       "        -10., -10., -10., -10., -10., -10., -10., -10., -10., -10., -10.,\n",
       "        -10., -10., -10., -10., -10., -10., -10., -10., -10., -10., -10.,\n",
       "        -10., -10., -10., -10., -10., -10., -10., -10., -10., -10., -10.,\n",
       "        -10., -10., -10., -10., -10., -10., -10., -10., -10., -10., -10.,\n",
       "        -10., -10., -10., -10., -10., -10., -10., -10., -10., -10., -10.,\n",
       "        -10., -10., -10., -10., -10., -10., -10., -10., -10., -10., -10.,\n",
       "        -10., -10., -10., -10., -10., -10., -10., -10., -10., -10., -10.,\n",
       "        -10., -10., -10., -10., -10., -10., -10., -10., -10., -10., -10.,\n",
       "        -10., -10., -10., -10., -10., -10., -10., -10., -10., -10., -10.,\n",
       "        -10., -10., -10., -10., -10., -10., -10., -10., -10., -10., -10.,\n",
       "        -10., -10., -10., -10., -10., -10., -10., -10., -10., -10., -10.,\n",
       "        -10., -10., -10., -10., -10., -10., -10., -10., -10., -10., -10.,\n",
       "        -10., -10., -10., -10., -10., -10., -10., -10., -10., -10., -10.,\n",
       "        -10., -10., -10., -10., -10., -10., -10., -10., -10., -10., -10.,\n",
       "        -10., -10., -10., -10., -10., -10., -10., -10., -10., -10., -10.,\n",
       "        -10., -10., -10., -10., -10., -10., -10., -10., -10., -10., -10.,\n",
       "        -10., -10., -10., -10., -10., -10., -10., -10., -10., -10., -10.,\n",
       "        -10., -10., -10.],\n",
       "       [-10., -10., -10., -10., -10., -10., -10., -10., -10., -10., -10.,\n",
       "        -10., -10., -10., -10., -10., -10., -10., -10., -10., -10., -10.,\n",
       "        -10., -10., -10., -10., -10., -10., -10., -10., -10., -10., -10.,\n",
       "        -10., -10., -10., -10., -10., -10., -10., -10., -10., -10., -10.,\n",
       "        -10., -10., -10., -10., -10., -10., -10., -10., -10., -10., -10.,\n",
       "        -10., -10., -10., -10., -10., -10., -10., -10., -10., -10., -10.,\n",
       "        -10., -10., -10., -10., -10., -10., -10., -10., -10., -10., -10.,\n",
       "        -10., -10., -10., -10., -10., -10., -10., -10., -10., -10., -10.,\n",
       "        -10., -10., -10., -10., -10., -10., -10., -10., -10., -10., -10.,\n",
       "        -10., -10., -10., -10., -10., -10., -10., -10., -10., -10., -10.,\n",
       "        -10., -10., -10., -10., -10., -10., -10., -10., -10., -10., -10.,\n",
       "        -10., -10., -10., -10., -10., -10., -10., -10., -10., -10., -10.,\n",
       "        -10., -10., -10., -10., -10., -10., -10., -10., -10., -10., -10.,\n",
       "        -10., -10., -10., -10., -10., -10., -10., -10., -10., -10., -10.,\n",
       "        -10., -10., -10., -10., -10., -10., -10., -10., -10., -10., -10.,\n",
       "        -10., -10., -10., -10., -10., -10., -10., -10., -10., -10., -10.,\n",
       "        -10., -10., -10., -10., -10., -10., -10., -10., -10., -10., -10.,\n",
       "        -10., -10., -10., -10., -10., -10., -10., -10., -10., -10., -10.,\n",
       "        -10., -10., -10., -10., -10., -10., -10., -10., -10., -10., -10.,\n",
       "        -10., -10., -10., -10., -10., -10., -10., -10., -10., -10., -10.,\n",
       "        -10., -10., -10., -10., -10., -10., -10., -10., -10., -10., -10.,\n",
       "        -10., -10., -10., -10., -10., -10., -10., -10., -10., -10., -10.,\n",
       "        -10., -10., -10., -10., -10., -10., -10., -10., -10., -10., -10.,\n",
       "        -10., -10., -10., -10., -10., -10., -10., -10., -10., -10., -10.,\n",
       "        -10., -10., -10., -10., -10., -10., -10., -10., -10., -10., -10.,\n",
       "        -10., -10., -10., -10., -10., -10., -10., -10., -10., -10., -10.,\n",
       "        -10., -10., -10., -10., -10., -10., -10., -10., -10., -10., -10.,\n",
       "        -10., -10., -10.]])"
      ]
     },
     "execution_count": 13,
     "metadata": {},
     "output_type": "execute_result"
    }
   ],
   "source": [
    "frameStimulus"
   ]
  }
 ],
 "metadata": {
  "kernelspec": {
   "display_name": "Python 3 (ipykernel)",
   "language": "python",
   "name": "python3"
  },
  "language_info": {
   "codemirror_mode": {
    "name": "ipython",
    "version": 3
   },
   "file_extension": ".py",
   "mimetype": "text/x-python",
   "name": "python",
   "nbconvert_exporter": "python",
   "pygments_lexer": "ipython3",
   "version": "3.9.6"
  },
  "toc": {
   "base_numbering": 1,
   "nav_menu": {},
   "number_sections": true,
   "sideBar": true,
   "skip_h1_title": false,
   "title_cell": "Table of Contents",
   "title_sidebar": "Contents",
   "toc_cell": false,
   "toc_position": {},
   "toc_section_display": true,
   "toc_window_display": false
  },
  "varInspector": {
   "cols": {
    "lenName": 16,
    "lenType": 16,
    "lenVar": 40
   },
   "kernels_config": {
    "python": {
     "delete_cmd_postfix": "",
     "delete_cmd_prefix": "del ",
     "library": "var_list.py",
     "varRefreshCmd": "print(var_dic_list())"
    },
    "r": {
     "delete_cmd_postfix": ") ",
     "delete_cmd_prefix": "rm(",
     "library": "var_list.r",
     "varRefreshCmd": "cat(var_dic_list()) "
    }
   },
   "position": {
    "height": "316.4px",
    "left": "1593.4px",
    "right": "20px",
    "top": "216px",
    "width": "350px"
   },
   "types_to_exclude": [
    "module",
    "function",
    "builtin_function_or_method",
    "instance",
    "_Feature"
   ],
   "window_display": true
  }
 },
 "nbformat": 4,
 "nbformat_minor": 5
}
