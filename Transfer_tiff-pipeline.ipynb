{
 "cells": [
  {
   "cell_type": "markdown",
   "id": "ab91c3e3",
   "metadata": {},
   "source": [
    "This program transfer the raw tiff file from scanimage to useful and convenient format  <br /> \n",
    "If the tiff file is volumetric, different slices will be separated and saved into different files. The last number of the file is the number of slices. \n"
   ]
  },
  {
   "cell_type": "code",
   "execution_count": 1,
   "id": "a96df9d8",
   "metadata": {},
   "outputs": [],
   "source": [
    "from ScanImageTiffReader import ScanImageTiffReader\n",
    "import matplotlib.pyplot as plt\n",
    "import matplotlib.image as mpimg\n",
    "import numpy as np\n",
    "import imageio\n",
    "import os\n",
    "import caiman as cm\n",
    "from os import listdir\n",
    "from os.path import isfile, join\n",
    "import json"
   ]
  },
  {
   "cell_type": "code",
   "execution_count": 2,
   "id": "c77a66ab",
   "metadata": {},
   "outputs": [],
   "source": [
    "#The function can find specific parameter in metadata\n",
    "def find_tag(metadata,name):\n",
    "    string = metadata.find(name)\n",
    "    temp_str = metadata[string:string+40]\n",
    "    end = temp_str.find('\\n')\n",
    "    start = len(name)+3\n",
    "    if name == 'scanFrameRate':\n",
    "        value = float(temp_str[start:end])\n",
    "    else:\n",
    "        value = int(temp_str[start:end])\n",
    "    return value"
   ]
  },
  {
   "cell_type": "code",
   "execution_count": 3,
   "id": "6cc34b33",
   "metadata": {},
   "outputs": [],
   "source": [
    "path = '/media/david/hdd1/David_GCAMP/20210812'#Choose the path that store your tif\n",
    "os.chdir(path)\n",
    "cwd = os.getcwd()\n",
    "if not os.path.isdir(cwd+'/tag'):\n",
    "    os.mkdir(cwd+'/tag')\n",
    "if not os.path.isdir(cwd+'/sliced_data'):\n",
    "    os.mkdir(cwd+'/sliced_data')\n",
    "files = [f for f in listdir(path+'/raw') if isfile(join(path+'/raw', f))]"
   ]
  },
  {
   "cell_type": "code",
   "execution_count": 5,
   "id": "ece5a82c",
   "metadata": {},
   "outputs": [
    {
     "name": "stdout",
     "output_type": "stream",
     "text": [
      "The acutual number of frames per slice is 300\n",
      "The acutual number of slice is 10\n",
      "The acutual number of volumes is 1\n",
      "The total frames is 3000\n",
      "The number of frames per volume is 3000\n",
      "\n",
      "The acutual number of frames per slice is 1\n",
      "The acutual number of slice is 10\n",
      "The acutual number of volumes is 1\n",
      "The total frames is 10\n",
      "The number of frames per volume is 10\n",
      "\n",
      "The acutual number of frames per slice is 1\n",
      "The acutual number of slice is 10\n",
      "The acutual number of volumes is 1\n",
      "The total frames is 10\n",
      "The number of frames per volume is 10\n",
      "\n",
      "The acutual number of frames per slice is 1\n",
      "The acutual number of slice is 3\n",
      "The acutual number of volumes is 200\n",
      "The total frames is 600\n",
      "The number of frames per volume is 3\n",
      "\n",
      "The acutual number of frames per slice is 10\n",
      "The acutual number of slice is 3\n",
      "The acutual number of volumes is 10\n",
      "The total frames is 300\n",
      "The number of frames per volume is 30\n",
      "\n",
      "The acutual number of frames per slice is 15\n",
      "The acutual number of slice is 2\n",
      "The acutual number of volumes is 100\n",
      "The total frames is 3000\n",
      "The number of frames per volume is 30\n",
      "\n",
      "The acutual number of frames per slice is 10\n",
      "The acutual number of slice is 3\n",
      "The acutual number of volumes is 100\n",
      "The total frames is 3000\n",
      "The number of frames per volume is 30\n",
      "\n"
     ]
    }
   ],
   "source": [
    "for filename in files:\n",
    "    #Read tiff file\n",
    "    vol=ScanImageTiffReader(cwd+'/raw/'+filename).data()\n",
    "    metadata =ScanImageTiffReader(cwd+'/raw/'+filename).metadata()\n",
    "    #Read tag\n",
    "    total_volume = find_tag(metadata,'actualNumVolumes')\n",
    "    framesPerSlice = find_tag(metadata,'framesPerSlice')\n",
    "    num_slice = find_tag(metadata,'actualNumSlices')\n",
    "    FrameRate = find_tag(metadata,'scanFrameRate')\n",
    "    numFramesPerVolume = find_tag(metadata,'numFramesPerVolume')\n",
    "    pixelsPerLine = find_tag(metadata,'pixelsPerLine')\n",
    "    linesPerFrame = find_tag(metadata,'linesPerFrame')\n",
    "    scanZoomFactor = find_tag(metadata,'scanZoomFactor')\n",
    "    stackZStepSize = find_tag(metadata,'stackZStepSize')\n",
    "    length = framesPerSlice*total_volume#time step\n",
    "    #Store tag\n",
    "    tag = {'total_volume':total_volume,'framesPerSlice':framesPerSlice,'framesPerSlice':framesPerSlice,'num_slice':num_slice,'FrameRate':FrameRate,'numFramesPerVolume':numFramesPerVolume,'pixelsPerLine':pixelsPerLine,'linesPerFrame':linesPerFrame,'scanZoomFactor':scanZoomFactor,'stackZStepSize':stackZStepSize,'metadata':metadata,'length':length}\n",
    "    with open(cwd+'/tag/'+filename[0:-4]+'.json', 'w') as f:\n",
    "        json.dump(tag, f)\n",
    "    \n",
    "    real_data = np.zeros((framesPerSlice*total_volume,vol.shape[1],vol.shape[2],num_slice))\n",
    "    #Reshape the data (Seperate different layers)\n",
    "    for slice in range(num_slice):\n",
    "        for volume in range(total_volume):\n",
    "            real_data[framesPerSlice*volume:framesPerSlice*volume+framesPerSlice,:,:,slice] = vol[numFramesPerVolume*volume+(slice*framesPerSlice):numFramesPerVolume*volume+(slice+1)*framesPerSlice,:,:]\n",
    "    #Store the data into different slices\n",
    "    for i in range(num_slice):\n",
    "        sliced_data = real_data[:,:,:,0].reshape((framesPerSlice*total_volume,vol.shape[1],vol.shape[2]))\n",
    "        sliced_movie = cm.movie(sliced_data)\n",
    "        sliced_movie.save(cwd+'/sliced_data/'+filename[0:-4]+'_'+str(i+1)+'.tif')\n",
    "    print(filename)\n",
    "    print('The acutual number of frames per slice is ' + str(framesPerSlice))\n",
    "    print('The acutual number of slice is ' + str(num_slice))\n",
    "    print('The acutual number of volumes is ' + str(total_volume))\n",
    "    print('The total frames is ' + str(total_volume*framesPerSlice*num_slice))\n",
    "    print('The number of frames per volume is ' + str(numFramesPerVolume))\n",
    "    print('')"
   ]
  },
  {
   "cell_type": "code",
   "execution_count": null,
   "id": "b3c87b8b",
   "metadata": {},
   "outputs": [],
   "source": []
  }
 ],
 "metadata": {
  "kernelspec": {
   "display_name": "Python 3 (ipykernel)",
   "language": "python",
   "name": "python3"
  },
  "language_info": {
   "codemirror_mode": {
    "name": "ipython",
    "version": 3
   },
   "file_extension": ".py",
   "mimetype": "text/x-python",
   "name": "python",
   "nbconvert_exporter": "python",
   "pygments_lexer": "ipython3",
   "version": "3.9.6"
  },
  "varInspector": {
   "cols": {
    "lenName": 16,
    "lenType": 16,
    "lenVar": 40
   },
   "kernels_config": {
    "python": {
     "delete_cmd_postfix": "",
     "delete_cmd_prefix": "del ",
     "library": "var_list.py",
     "varRefreshCmd": "print(var_dic_list())"
    },
    "r": {
     "delete_cmd_postfix": ") ",
     "delete_cmd_prefix": "rm(",
     "library": "var_list.r",
     "varRefreshCmd": "cat(var_dic_list()) "
    }
   },
   "types_to_exclude": [
    "module",
    "function",
    "builtin_function_or_method",
    "instance",
    "_Feature"
   ],
   "window_display": false
  }
 },
 "nbformat": 4,
 "nbformat_minor": 5
}
