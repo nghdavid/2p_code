{
 "cells": [
  {
   "cell_type": "markdown",
   "id": "ab91c3e3",
   "metadata": {},
   "source": [
    "This program transfer the raw tiff file from scanimage to useful and convenient format  <br /> \n",
    "If the tiff file is volumetric, different slices will be separated and saved into different files. The last number of the file is the number of slices. \n"
   ]
  },
  {
   "cell_type": "code",
   "execution_count": 1,
   "id": "a96df9d8",
   "metadata": {
    "ExecuteTime": {
     "end_time": "2022-02-10T06:43:06.350187Z",
     "start_time": "2022-02-10T06:43:04.054090Z"
    }
   },
   "outputs": [],
   "source": [
    "from ScanImageTiffReader import ScanImageTiffReader\n",
    "import matplotlib.pyplot as plt\n",
    "import matplotlib.image as mpimg\n",
    "import numpy as np\n",
    "import imageio\n",
    "import os\n",
    "import caiman as cm\n",
    "from os import listdir\n",
    "from os.path import isfile, join\n",
    "import json\n",
    "import scipy.io\n",
    "from scipy import stats\n",
    "import cv2"
   ]
  },
  {
   "cell_type": "code",
   "execution_count": 2,
   "id": "c77a66ab",
   "metadata": {
    "ExecuteTime": {
     "end_time": "2022-02-10T06:43:06.353784Z",
     "start_time": "2022-02-10T06:43:06.351023Z"
    }
   },
   "outputs": [],
   "source": [
    "#The function can find specific parameter in metadata\n",
    "def find_tag(metadata,name):\n",
    "    string = metadata.find(name)\n",
    "    temp_str = metadata[string:string+40]\n",
    "    end = temp_str.find('\\n')\n",
    "    start = len(name)+3\n",
    "    if name == 'scanFrameRate' or name == 'frameTimestamps_sec':\n",
    "        value = float(temp_str[start:end])\n",
    "    else:\n",
    "        value = int(temp_str[start:end])\n",
    "    return value"
   ]
  },
  {
   "cell_type": "code",
   "execution_count": 3,
   "id": "6cc34b33",
   "metadata": {
    "ExecuteTime": {
     "end_time": "2022-02-10T06:43:06.360468Z",
     "start_time": "2022-02-10T06:43:06.354744Z"
    }
   },
   "outputs": [],
   "source": [
    "path = '/media/david/hdd1/David_GCAMP/20220209'#Choose the path that store your tif\n",
    "save_data = 1\n",
    "os.chdir(path)\n",
    "cwd = os.getcwd()\n",
    "if not os.path.isdir(cwd+'/tag'):\n",
    "    os.mkdir(cwd+'/tag')\n",
    "if not os.path.isdir(cwd+'/sliced_data'):\n",
    "    os.mkdir(cwd+'/sliced_data')\n",
    "files = [f for f in listdir(path+'/raw') if isfile(join(path+'/raw', f))]"
   ]
  },
  {
   "cell_type": "code",
   "execution_count": 4,
   "id": "3628cc9a",
   "metadata": {
    "ExecuteTime": {
     "end_time": "2022-02-10T06:43:06.362347Z",
     "start_time": "2022-02-10T06:43:06.361128Z"
    }
   },
   "outputs": [],
   "source": [
    "#filename = 'file_00006.tif'\n",
    "#reader=ScanImageTiffReader(cwd+'/raw/'+filename)\n",
    "#reader.description(10)"
   ]
  },
  {
   "cell_type": "code",
   "execution_count": 5,
   "id": "ece5a82c",
   "metadata": {
    "ExecuteTime": {
     "end_time": "2022-02-10T06:47:31.160832Z",
     "start_time": "2022-02-10T06:43:06.363105Z"
    },
    "scrolled": true
   },
   "outputs": [
    {
     "name": "stdout",
     "output_type": "stream",
     "text": [
      "file_00001.tif\n",
      "The acutual number of frames per slice is 1\n",
      "The acutual number of slice is 5\n",
      "The acutual number of volumes is 500\n",
      "The total frames is 2500\n",
      "The number of frames per volume is 5\n",
      "The zoom factor is 5\n",
      "\n",
      "file_00002.tif\n",
      "The acutual number of frames per slice is 1\n",
      "The acutual number of slice is 5\n",
      "The acutual number of volumes is 500\n",
      "The total frames is 2500\n",
      "The number of frames per volume is 5\n",
      "The zoom factor is 5\n",
      "\n",
      "file_00003.tif\n",
      "The acutual number of frames per slice is 1\n",
      "The acutual number of slice is 3\n",
      "The acutual number of volumes is 500\n",
      "The total frames is 1500\n",
      "The number of frames per volume is 3\n",
      "The zoom factor is 5\n",
      "\n",
      "file_00004.tif\n",
      "The acutual number of frames per slice is 1\n",
      "The acutual number of slice is 3\n",
      "The acutual number of volumes is 800\n",
      "The total frames is 2400\n",
      "The number of frames per volume is 3\n",
      "The zoom factor is 4\n",
      "\n",
      "file_00005.tif\n",
      "The acutual number of frames per slice is 1\n",
      "The acutual number of slice is 5\n",
      "The acutual number of volumes is 800\n",
      "The total frames is 4000\n",
      "The number of frames per volume is 5\n",
      "The zoom factor is 4\n",
      "\n",
      "file_00006.tif\n",
      "The acutual number of frames per slice is 1\n",
      "The acutual number of slice is 3\n",
      "The acutual number of volumes is 800\n",
      "The total frames is 2400\n",
      "The number of frames per volume is 3\n",
      "The zoom factor is 4\n",
      "\n",
      "file_00007.tif\n",
      "The acutual number of frames per slice is 1\n",
      "The acutual number of slice is 5\n",
      "The acutual number of volumes is 800\n",
      "The total frames is 4000\n",
      "The number of frames per volume is 5\n",
      "The zoom factor is 5\n",
      "\n",
      "file_00008.tif\n",
      "The acutual number of frames per slice is 1\n",
      "The acutual number of slice is 5\n",
      "The acutual number of volumes is 800\n",
      "The total frames is 4000\n",
      "The number of frames per volume is 5\n",
      "The zoom factor is 5\n",
      "\n"
     ]
    }
   ],
   "source": [
    "for filename in files:\n",
    "    #Read tiff file\n",
    "    reader=ScanImageTiffReader(cwd+'/raw/'+filename)\n",
    "    vol=reader.data()\n",
    "    \n",
    "    metadata =reader.metadata()\n",
    "    #Read tag\n",
    "    total_volume = find_tag(metadata,'actualNumVolumes')\n",
    "    framesPerSlice = find_tag(metadata,'framesPerSlice')\n",
    "    num_slice = find_tag(metadata,'actualNumSlices')\n",
    "    FrameRate = find_tag(metadata,'scanFrameRate')\n",
    "    numFramesPerVolume = find_tag(metadata,'numFramesPerVolume')\n",
    "    pixelsPerLine = find_tag(metadata,'pixelsPerLine')\n",
    "    linesPerFrame = find_tag(metadata,'linesPerFrame')\n",
    "    scanZoomFactor = find_tag(metadata,'scanZoomFactor')\n",
    "    stackZStepSize = find_tag(metadata,'stackZStepSize')\n",
    "    length = framesPerSlice*total_volume#time step\n",
    "    frameTimestamps = np.zeros((num_slice,total_volume*framesPerSlice))\n",
    "    #Store tag into a dictionary\n",
    "    tag = {'total_volume':total_volume,'framesPerSlice':framesPerSlice,'framesPerSlice':framesPerSlice,'num_slice':num_slice,'FrameRate':FrameRate,'numFramesPerVolume':numFramesPerVolume,'pixelsPerLine':pixelsPerLine,'linesPerFrame':linesPerFrame,'scanZoomFactor':scanZoomFactor,'stackZStepSize':stackZStepSize,'metadata':metadata,'length':length}\n",
    "    if vol.shape[0] > total_volume*framesPerSlice*num_slice:\n",
    "        real_vol = np.zeros((total_volume*framesPerSlice*num_slice,vol.shape[1],vol.shape[2]))\n",
    "        for i in range(total_volume):\n",
    "            real_vol[i*framesPerSlice*num_slice:(i+1)*framesPerSlice*num_slice,:,:] = vol[i*(framesPerSlice*num_slice+1):(i+1)*(framesPerSlice*num_slice+1)-1,:,:]\n",
    "        vol = real_vol\n",
    "    #Synchronize the image with stimulus\n",
    "    if os.path.isfile(cwd+'/stimulus/'+filename[0:-4]+'.mat'):\n",
    "        frameStimulus = np.zeros((num_slice,total_volume*framesPerSlice))#It stores the stimulus corresponding to each frame\n",
    "        frameOmitStimulus = np.zeros((num_slice,total_volume*framesPerSlice))#It stores the omitted stimulus corresponding to each frame\n",
    "        stimulus = np.absolute(scipy.io.loadmat(cwd+'/stimulus/'+filename[0:-4]+'.mat')['volts'])\n",
    "        Omitstimulus = np.absolute(scipy.io.loadmat(cwd+'/stimulus/'+filename[0:-4]+'.mat')['fake_volts'])\n",
    "        rate = scipy.io.loadmat(cwd+'/stimulus/'+filename[0:-4]+'.mat')['rate'][0][0]#DAQ rate\n",
    "        for frame in range(total_volume*framesPerSlice*num_slice):\n",
    "            slice = frame%num_slice\n",
    "            timestamp = find_tag(reader.description(frame),'frameTimestamps_sec')\n",
    "            frameTimestamps[slice,frame//num_slice] = timestamp\n",
    "            step_stimulus = stimulus[0,int(timestamp*rate):int((timestamp+1/FrameRate)*rate)]\n",
    "            step_Omitstimulus = Omitstimulus[0,int(timestamp*rate):int((timestamp+1/FrameRate)*rate)]\n",
    "            frameStimulus[slice,frame//num_slice] = stats.mode(step_stimulus)[0][0]\n",
    "            frameOmitStimulus[slice,frame//num_slice] = stats.mode(step_Omitstimulus)[0][0]\n",
    "            \n",
    "        tag['frameStimulus'] = frameStimulus.tolist()\n",
    "        tag['frameOmitStimulus'] = frameOmitStimulus.tolist()\n",
    "    tag['frameTimestamps'] = frameTimestamps.tolist()\n",
    "    #Save tag\n",
    "    if save_data:\n",
    "        with open(cwd+'/tag/'+filename[0:-4]+'.json', 'w') as f:\n",
    "            json.dump(tag, f)\n",
    "    \n",
    "    ######Bin the image data#####\n",
    "    real_data = np.zeros((framesPerSlice*total_volume,vol.shape[1],vol.shape[2],num_slice))\n",
    "    #Reshape the data (Seperate different layers)\n",
    "    for slice in range(num_slice):\n",
    "        for volume in range(total_volume):\n",
    "            real_data[framesPerSlice*volume:framesPerSlice*volume+framesPerSlice,:,:,slice] = vol[numFramesPerVolume*volume+(slice*framesPerSlice):numFramesPerVolume*volume+(slice+1)*framesPerSlice,:,:]\n",
    "    #Store the data into different slices\n",
    "    for i in range(num_slice):\n",
    "        sliced_data = real_data[:,:,:,i].reshape((framesPerSlice*total_volume,vol.shape[1],vol.shape[2]))\n",
    "        sliced_movie = cm.movie(sliced_data)\n",
    "        if save_data:\n",
    "            sliced_movie.save(cwd+'/sliced_data/'+filename[0:-4]+'_'+str(i+1)+'.tif')\n",
    "            #plt.imsave(cwd+'/sliced_data/'+filename[0:-4]+'_'+str(i+1)+'.tif',sliced_data)\n",
    "            #cv2.imwrite(cwd+'/sliced_data/'+filename[0:-4]+'_'+str(i+1)+'.tif',sliced_data)\n",
    "    print(filename)\n",
    "    print('The acutual number of frames per slice is ' + str(framesPerSlice))\n",
    "    print('The acutual number of slice is ' + str(num_slice))\n",
    "    print('The acutual number of volumes is ' + str(total_volume))\n",
    "    print('The total frames is ' + str(total_volume*framesPerSlice*num_slice))\n",
    "    print('The number of frames per volume is ' + str(numFramesPerVolume))\n",
    "    print('The zoom factor is '+str(scanZoomFactor))\n",
    "    print('')\n",
    "    "
   ]
  },
  {
   "cell_type": "code",
   "execution_count": 6,
   "id": "990be058",
   "metadata": {
    "ExecuteTime": {
     "end_time": "2022-02-10T06:47:31.166360Z",
     "start_time": "2022-02-10T06:47:31.162073Z"
    }
   },
   "outputs": [
    {
     "data": {
      "text/plain": [
       "'file_00008.tif'"
      ]
     },
     "execution_count": 6,
     "metadata": {},
     "output_type": "execute_result"
    }
   ],
   "source": [
    "filename"
   ]
  }
 ],
 "metadata": {
  "kernelspec": {
   "display_name": "Python 3 (ipykernel)",
   "language": "python",
   "name": "python3"
  },
  "language_info": {
   "codemirror_mode": {
    "name": "ipython",
    "version": 3
   },
   "file_extension": ".py",
   "mimetype": "text/x-python",
   "name": "python",
   "nbconvert_exporter": "python",
   "pygments_lexer": "ipython3",
   "version": "3.9.6"
  },
  "toc": {
   "base_numbering": 1,
   "nav_menu": {},
   "number_sections": true,
   "sideBar": true,
   "skip_h1_title": false,
   "title_cell": "Table of Contents",
   "title_sidebar": "Contents",
   "toc_cell": false,
   "toc_position": {},
   "toc_section_display": true,
   "toc_window_display": false
  },
  "varInspector": {
   "cols": {
    "lenName": 16,
    "lenType": 16,
    "lenVar": 40
   },
   "kernels_config": {
    "python": {
     "delete_cmd_postfix": "",
     "delete_cmd_prefix": "del ",
     "library": "var_list.py",
     "varRefreshCmd": "print(var_dic_list())"
    },
    "r": {
     "delete_cmd_postfix": ") ",
     "delete_cmd_prefix": "rm(",
     "library": "var_list.r",
     "varRefreshCmd": "cat(var_dic_list()) "
    }
   },
   "oldHeight": 294.4,
   "position": {
    "height": "316.396px",
    "left": "1979.4px",
    "right": "20px",
    "top": "260px",
    "width": "350px"
   },
   "types_to_exclude": [
    "module",
    "function",
    "builtin_function_or_method",
    "instance",
    "_Feature"
   ],
   "varInspector_section_display": "block",
   "window_display": true
  }
 },
 "nbformat": 4,
 "nbformat_minor": 5
}
