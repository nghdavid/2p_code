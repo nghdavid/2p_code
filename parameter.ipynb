{
 "cells": [
  {
   "cell_type": "code",
   "execution_count": 2,
   "id": "a73a11ba",
   "metadata": {
    "ExecuteTime": {
     "end_time": "2021-09-10T07:16:21.951282Z",
     "start_time": "2021-09-10T07:16:21.946133Z"
    }
   },
   "outputs": [],
   "source": [
    "import json"
   ]
  },
  {
   "cell_type": "code",
   "execution_count": null,
   "id": "54855906",
   "metadata": {},
   "outputs": [],
   "source": [
    "#Zoom factor 4"
   ]
  },
  {
   "cell_type": "code",
   "execution_count": 4,
   "id": "e3ede837",
   "metadata": {
    "ExecuteTime": {
     "end_time": "2021-09-10T07:17:09.508736Z",
     "start_time": "2021-09-10T07:17:09.503334Z"
    }
   },
   "outputs": [],
   "source": [
    "rf = 45                     # half-size of the patches in pixels. e.g., if rf=25, patches are 50x50\n",
    "#Should be at least 3 to 4 times larger than the expected neuron size to capture the complete neuron and its local background.\n",
    "stride_cnmf = 25             # amount of overlap between the patches in pixels\n",
    "#This should be roughly the neuron diameter. Larger overlap increases computational load, but yields better results during reconstruction/denoising of the data.\n",
    "gSig = [12, 12]               # expected half size of neurons in pixels, CRUCIAL parameter for proper component detection.\n",
    "parameters = {'rf':rf,'stride_cnmf':stride_cnmf,'gSig':gSig}\n",
    "\n",
    "with open('parameter/zoom4.json', 'w') as f:\n",
    "    json.dump(parameters,f)"
   ]
  },
  {
   "cell_type": "code",
   "execution_count": null,
   "id": "c8407e11",
   "metadata": {},
   "outputs": [],
   "source": [
    "#Zoom factor 5"
   ]
  },
  {
   "cell_type": "code",
   "execution_count": 5,
   "id": "e396e7cf",
   "metadata": {
    "ExecuteTime": {
     "end_time": "2021-09-10T07:17:20.365811Z",
     "start_time": "2021-09-10T07:17:20.362516Z"
    }
   },
   "outputs": [],
   "source": [
    "#Merging threshold of components after initialization. If two components are correlated more than this value, they are merged and treated as one.\n",
    "rf = 50                     # half-size of the patches in pixels. e.g., if rf=25, patches are 50x50\n",
    "#Should be at least 3 to 4 times larger than the expected neuron size to capture the complete neuron and its local background.\n",
    "stride_cnmf = 30             # amount of overlap between the patches in pixels\n",
    "#This should be roughly the neuron diameter. Larger overlap increases computational load, but yields better results during reconstruction/denoising of the data.\n",
    "gSig = [15, 15]               # expected half size of neurons in pixels, CRUCIAL parameter for proper component detection.\n",
    "parameters = {'rf':rf,'stride_cnmf':stride_cnmf,'gSig':gSig}\n",
    "with open('parameter/zoom5.json', 'w') as f:\n",
    "    json.dump(parameters,f)"
   ]
  },
  {
   "cell_type": "code",
   "execution_count": null,
   "id": "3c473cf7",
   "metadata": {},
   "outputs": [],
   "source": [
    "#Zoom factor 6"
   ]
  },
  {
   "cell_type": "code",
   "execution_count": 6,
   "id": "4a733f63",
   "metadata": {
    "ExecuteTime": {
     "end_time": "2021-09-10T07:17:30.084457Z",
     "start_time": "2021-09-10T07:17:30.081429Z"
    }
   },
   "outputs": [],
   "source": [
    "rf = 50                     # half-size of the patches in pixels. e.g., if rf=25, patches are 50x50\n",
    "#Should be at least 3 to 4 times larger than the expected neuron size to capture the complete neuron and its local background.\n",
    "stride_cnmf = 30             # amount of overlap between the patches in pixels\n",
    "#This should be roughly the neuron diameter. Larger overlap increases computational load, but yields better results during reconstruction/denoising of the data.\n",
    "gSig = [18, 18]               # expected half size of neurons in pixels, CRUCIAL parameter for proper component detection.\n",
    "parameters = {'rf':rf,'stride_cnmf':stride_cnmf,'gSig':gSig}\n",
    "with open('parameter/zoom6.json', 'w') as f:\n",
    "    json.dump(parameters,f)"
   ]
  },
  {
   "cell_type": "code",
   "execution_count": null,
   "id": "b4f7c297",
   "metadata": {},
   "outputs": [],
   "source": [
    "#Zoom factor 7"
   ]
  },
  {
   "cell_type": "code",
   "execution_count": 7,
   "id": "0b2964e8",
   "metadata": {
    "ExecuteTime": {
     "end_time": "2021-09-10T07:17:38.178514Z",
     "start_time": "2021-09-10T07:17:38.175571Z"
    },
    "run_control": {
     "marked": false
    }
   },
   "outputs": [],
   "source": [
    "rf = 50                     # half-size of the patches in pixels. e.g., if rf=25, patches are 50x50\n",
    "#Should be at least 3 to 4 times larger than the expected neuron size to capture the complete neuron and its local background.\n",
    "stride_cnmf = 30             # amount of overlap between the patches in pixels\n",
    "#This should be roughly the neuron diameter. Larger overlap increases computational load, but yields better results during reconstruction/denoising of the data.\n",
    "gSig = [20, 20]               # expected half size of neurons in pixels, CRUCIAL parameter for proper component detection.\n",
    "parameters = {'rf':rf,'stride_cnmf':stride_cnmf,'gSig':gSig}\n",
    "with open('parameter/zoom7.json', 'w') as f:\n",
    "    json.dump(parameters,f)"
   ]
  },
  {
   "cell_type": "code",
   "execution_count": null,
   "id": "9ad0cc44",
   "metadata": {
    "run_control": {
     "marked": false
    }
   },
   "outputs": [],
   "source": [
    "#Zoom factor 8"
   ]
  },
  {
   "cell_type": "code",
   "execution_count": 8,
   "id": "aae9ba4f",
   "metadata": {
    "ExecuteTime": {
     "end_time": "2021-09-10T07:17:44.254193Z",
     "start_time": "2021-09-10T07:17:44.248373Z"
    }
   },
   "outputs": [],
   "source": [
    "rf = 50                     # half-size of the patches in pixels. e.g., if rf=25, patches are 50x50\n",
    "#Should be at least 3 to 4 times larger than the expected neuron size to capture the complete neuron and its local background.\n",
    "stride_cnmf = 30             # amount of overlap between the patches in pixels\n",
    "#This should be roughly the neuron diameter. Larger overlap increases computational load, but yields better results during reconstruction/denoising of the data.\n",
    "gSig = [22, 22]               # expected half size of neurons in pixels, CRUCIAL parameter for proper component detection.\n",
    "parameters = {'rf':rf,'stride_cnmf':stride_cnmf,'gSig':gSig}\n",
    "with open('parameter/zoom8.json', 'w') as f:\n",
    "    json.dump(parameters,f)"
   ]
  }
 ],
 "metadata": {
  "kernelspec": {
   "display_name": "Python 3 (ipykernel)",
   "language": "python",
   "name": "python3"
  },
  "language_info": {
   "codemirror_mode": {
    "name": "ipython",
    "version": 3
   },
   "file_extension": ".py",
   "mimetype": "text/x-python",
   "name": "python",
   "nbconvert_exporter": "python",
   "pygments_lexer": "ipython3",
   "version": "3.9.6"
  },
  "toc": {
   "base_numbering": 1,
   "nav_menu": {},
   "number_sections": true,
   "sideBar": true,
   "skip_h1_title": false,
   "title_cell": "Table of Contents",
   "title_sidebar": "Contents",
   "toc_cell": false,
   "toc_position": {},
   "toc_section_display": true,
   "toc_window_display": false
  },
  "varInspector": {
   "cols": {
    "lenName": 16,
    "lenType": 16,
    "lenVar": 40
   },
   "kernels_config": {
    "python": {
     "delete_cmd_postfix": "",
     "delete_cmd_prefix": "del ",
     "library": "var_list.py",
     "varRefreshCmd": "print(var_dic_list())"
    },
    "r": {
     "delete_cmd_postfix": ") ",
     "delete_cmd_prefix": "rm(",
     "library": "var_list.r",
     "varRefreshCmd": "cat(var_dic_list()) "
    }
   },
   "types_to_exclude": [
    "module",
    "function",
    "builtin_function_or_method",
    "instance",
    "_Feature"
   ],
   "window_display": false
  }
 },
 "nbformat": 4,
 "nbformat_minor": 5
}
