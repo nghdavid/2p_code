{
 "cells": [
  {
   "cell_type": "code",
   "execution_count": 1,
   "id": "57658563",
   "metadata": {},
   "outputs": [],
   "source": [
    "import cv2\n",
    "import numpy as np\n",
    "import os\n",
    "import matplotlib.pyplot as plt\n",
    "from ScanImageTiffReader import ScanImageTiffReader"
   ]
  },
  {
   "cell_type": "code",
   "execution_count": 2,
   "id": "c67c6b3c",
   "metadata": {},
   "outputs": [],
   "source": [
    "directory = '/media/david/hdd1/David_GCAMP/20210820'\n",
    "filename = 'file_00005_1'\n",
    "movie = np.load(directory+'/denoise/'+'denoise_'+filename+'.npy')\n",
    "#original_movie = ScanImageTiffReader(directory+filename+'.tif').data()\n",
    "\n",
    "if not os.path.isdir(directory+'/movie'):\n",
    "    os.mkdir(directory+'/movie')"
   ]
  },
  {
   "cell_type": "code",
   "execution_count": 3,
   "id": "ab0cf243",
   "metadata": {},
   "outputs": [],
   "source": [
    "#Create movie\n",
    "fourcc = cv2.VideoWriter_fourcc(*'XVID')\n",
    "out = cv2.VideoWriter(directory+'/movie/'+filename+'.avi', fourcc, 30.0, (movie.shape[2],movie.shape[1]),0)\n",
    "#out = cv2.VideoWriter(directory+'original_'+filename+'.avi', fourcc, 30.0, (original_movie.shape[2],original_movie.shape[1]),0)\n",
    "for i in range(movie.shape[0]):\n",
    "    #Transform from int16 to uint8\n",
    "    img = cv2.normalize(movie[i,:,:].reshape(movie.shape[2],movie.shape[1]), None, 0, 255, cv2.NORM_MINMAX)\n",
    "    out.write(np.uint8(img))\n",
    "out.release()"
   ]
  }
 ],
 "metadata": {
  "kernelspec": {
   "display_name": "Python 3 (ipykernel)",
   "language": "python",
   "name": "python3"
  },
  "language_info": {
   "codemirror_mode": {
    "name": "ipython",
    "version": 3
   },
   "file_extension": ".py",
   "mimetype": "text/x-python",
   "name": "python",
   "nbconvert_exporter": "python",
   "pygments_lexer": "ipython3",
   "version": "3.9.6"
  },
  "varInspector": {
   "cols": {
    "lenName": 16,
    "lenType": 16,
    "lenVar": 40
   },
   "kernels_config": {
    "python": {
     "delete_cmd_postfix": "",
     "delete_cmd_prefix": "del ",
     "library": "var_list.py",
     "varRefreshCmd": "print(var_dic_list())"
    },
    "r": {
     "delete_cmd_postfix": ") ",
     "delete_cmd_prefix": "rm(",
     "library": "var_list.r",
     "varRefreshCmd": "cat(var_dic_list()) "
    }
   },
   "types_to_exclude": [
    "module",
    "function",
    "builtin_function_or_method",
    "instance",
    "_Feature"
   ],
   "window_display": false
  }
 },
 "nbformat": 4,
 "nbformat_minor": 5
}
