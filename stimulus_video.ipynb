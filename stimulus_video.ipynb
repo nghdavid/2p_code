{
 "cells": [
  {
   "cell_type": "code",
   "execution_count": 1,
   "id": "57658563",
   "metadata": {
    "ExecuteTime": {
     "end_time": "2022-01-25T08:32:41.981847Z",
     "start_time": "2022-01-25T08:32:39.464095Z"
    }
   },
   "outputs": [],
   "source": [
    "import cv2\n",
    "import numpy as np\n",
    "import os\n",
    "import matplotlib.pyplot as plt\n",
    "from os import listdir\n",
    "from ScanImageTiffReader import ScanImageTiffReader\n",
    "from os.path import isfile, join\n",
    "import h5py\n",
    "import pandas as pd\n",
    "from scipy import sparse\n",
    "import caiman as cm\n",
    "import json\n",
    "from caiman.utils.visualization import get_contours\n",
    "import tifffile as tf"
   ]
  },
  {
   "cell_type": "code",
   "execution_count": 2,
   "id": "6c8ba63f",
   "metadata": {
    "ExecuteTime": {
     "end_time": "2022-01-25T08:32:41.986509Z",
     "start_time": "2022-01-25T08:32:41.982663Z"
    }
   },
   "outputs": [],
   "source": [
    "directory = '/media/david/hdd1/David_GCAMP/20220119'\n",
    "Select_ROI = {2:[19,24,52,72,81],3:[14,40,63,64],6:[16,24,47],7:[7],9:[23],10:[10,16],11:[16,25,28,29],5:[8,11,13,15,21,22,23,24,25,26,28,29,35,36,39,41,45,54,64,74,75,83,85,86,88,91,94,100,105,106]}\n",
    "num_file = [2,3,6,7,10,11]\n",
    "if not os.path.isdir(directory+'/movie'):\n",
    "    os.mkdir(directory+'/movie')\n",
    "num_slice = 1"
   ]
  },
  {
   "cell_type": "code",
   "execution_count": 3,
   "id": "ab0cf243",
   "metadata": {
    "ExecuteTime": {
     "end_time": "2022-01-25T08:38:48.403291Z",
     "start_time": "2022-01-25T08:32:41.987960Z"
    }
   },
   "outputs": [
    {
     "ename": "FileNotFoundError",
     "evalue": "[Errno 2] No such file or directory: '/media/david/hdd1/David_GCAMP/20220119/tag/file_000010.json'",
     "output_type": "error",
     "traceback": [
      "\u001b[0;31m---------------------------------------------------------------------------\u001b[0m",
      "\u001b[0;31mFileNotFoundError\u001b[0m                         Traceback (most recent call last)",
      "\u001b[0;32m/tmp/ipykernel_101497/3420593407.py\u001b[0m in \u001b[0;36m<module>\u001b[0;34m\u001b[0m\n\u001b[1;32m      4\u001b[0m     \u001b[0;31m#Read tag file\u001b[0m\u001b[0;34m\u001b[0m\u001b[0;34m\u001b[0m\u001b[0;34m\u001b[0m\u001b[0m\n\u001b[1;32m      5\u001b[0m     \u001b[0mdict_name\u001b[0m \u001b[0;34m=\u001b[0m \u001b[0mdirectory\u001b[0m\u001b[0;34m+\u001b[0m\u001b[0;34m'/tag/'\u001b[0m\u001b[0;34m+\u001b[0m\u001b[0mfilename\u001b[0m\u001b[0;34m[\u001b[0m\u001b[0;34m:\u001b[0m\u001b[0;34m-\u001b[0m\u001b[0;36m4\u001b[0m\u001b[0;34m]\u001b[0m\u001b[0;34m+\u001b[0m\u001b[0;34m'.json'\u001b[0m\u001b[0;34m\u001b[0m\u001b[0;34m\u001b[0m\u001b[0m\n\u001b[0;32m----> 6\u001b[0;31m     \u001b[0;32mwith\u001b[0m \u001b[0mopen\u001b[0m\u001b[0;34m(\u001b[0m\u001b[0mdict_name\u001b[0m\u001b[0;34m,\u001b[0m \u001b[0;34m'r'\u001b[0m\u001b[0;34m)\u001b[0m \u001b[0;32mas\u001b[0m \u001b[0mf\u001b[0m\u001b[0;34m:\u001b[0m\u001b[0;34m\u001b[0m\u001b[0;34m\u001b[0m\u001b[0m\n\u001b[0m\u001b[1;32m      7\u001b[0m         \u001b[0mtag\u001b[0m \u001b[0;34m=\u001b[0m \u001b[0mjson\u001b[0m\u001b[0;34m.\u001b[0m\u001b[0mload\u001b[0m\u001b[0;34m(\u001b[0m\u001b[0mf\u001b[0m\u001b[0;34m)\u001b[0m\u001b[0;34m\u001b[0m\u001b[0;34m\u001b[0m\u001b[0m\n\u001b[1;32m      8\u001b[0m     \u001b[0mframeStimulus\u001b[0m \u001b[0;34m=\u001b[0m \u001b[0mnp\u001b[0m\u001b[0;34m.\u001b[0m\u001b[0marray\u001b[0m\u001b[0;34m(\u001b[0m\u001b[0mtag\u001b[0m\u001b[0;34m[\u001b[0m\u001b[0;34m'frameStimulus'\u001b[0m\u001b[0;34m]\u001b[0m\u001b[0;34m)\u001b[0m\u001b[0;34m\u001b[0m\u001b[0;34m\u001b[0m\u001b[0m\n",
      "\u001b[0;31mFileNotFoundError\u001b[0m: [Errno 2] No such file or directory: '/media/david/hdd1/David_GCAMP/20220119/tag/file_000010.json'"
     ]
    }
   ],
   "source": [
    "for num in num_file:\n",
    "    interest_ROIs = Select_ROI[num]\n",
    "    filename = 'file_0000'+str(num)+'.tif'\n",
    "    #Read tag file\n",
    "    dict_name = directory+'/tag/'+filename[:-4]+'.json'\n",
    "    with open(dict_name, 'r') as f:\n",
    "        tag = json.load(f)\n",
    "    frameStimulus = np.array(tag['frameStimulus'])\n",
    "    frameOmitStimulus = np.array(tag['frameOmitStimulus'])\n",
    "    frameTimestamps = np.array(tag['frameTimestamps'])\n",
    "    #Read results\n",
    "    name = directory+'/preprocess/'+filename[:-4]+'_'+str(num_slice)+'.hdf5'\n",
    "    cnm2 = h5py.File(name,'r')\n",
    "    shape = cnm2['estimates']['A']['shape'][:]\n",
    "    indices = cnm2['estimates']['A']['indices'][:]\n",
    "    indptr = cnm2['estimates']['A']['indptr'][:]\n",
    "    data = cnm2['estimates']['A']['data'][:]\n",
    "    dims = cnm2['dims'][:]\n",
    "    A = sparse.csr_matrix((data, indices, indptr),shape=(shape[1],shape[0])).transpose()\n",
    "    coordinates = get_contours(A, dims, thr=0.9)\n",
    "    #movie = ScanImageTiffReader(directory+'/gaussian/'+filename).data()\n",
    "    #movie = tf.imread(directory+'/gaussian/'+filename)\n",
    "    movie = np.load(directory+'/denoise/denoise_'+filename[:-4]+'_1.npy')\n",
    "    #Create movie\n",
    "    fourcc = cv2.VideoWriter_fourcc(*'XVID')\n",
    "    for interest_ROI in interest_ROIs:\n",
    "        #out = cv2.VideoWriter(directory+'/gaussian_movie/'+filename[:-4]+'_No'+str(interest_ROI)+'.avi', fourcc, 30.0, (movie.shape[2],movie.shape[1]),0)\n",
    "        out = cv2.VideoWriter(directory+'/movie/'+filename[:-4]+'_No'+str(interest_ROI)+'.avi', fourcc, 30.0, (movie.shape[2],movie.shape[1]),0)\n",
    "        for i in range(movie.shape[0]):\n",
    "            #Transform from int16 to uint8\n",
    "            img = cv2.normalize(movie[i,:,:].reshape(movie.shape[2],movie.shape[1]), None, 0, 255, cv2.NORM_MINMAX)\n",
    "\n",
    "            coordinate = coordinates[interest_ROI-1]['coordinates']\n",
    "            for c in coordinate[1:-1]:\n",
    "                if np.isnan(c[0]) or np.isnan(c[1]):\n",
    "                    pass\n",
    "                else:\n",
    "                    if i < 100:\n",
    "                        img[int(c[1]),int(c[0])] = 255\n",
    "                    else:\n",
    "                        img[int(c[1]),int(c[0])] = 128\n",
    "            if frameStimulus[0,i] >1:\n",
    "                img[0:10,0:10] = 255\n",
    "                img[502:511,502:511] = 255\n",
    "                img[0:10,502:511] = 255\n",
    "                img[502:511,0:10] = 255\n",
    "            elif frameOmitStimulus[0,i]> 1:\n",
    "                img[250:260,0:10] = 255\n",
    "                img[502:511,250:260] = 255\n",
    "                img[0:10,250:260] = 255\n",
    "                img[250:260,502:511] = 255\n",
    "            out.write(np.uint8(img))\n",
    "        out.release()"
   ]
  },
  {
   "cell_type": "code",
   "execution_count": null,
   "id": "2fe8dd11",
   "metadata": {},
   "outputs": [],
   "source": []
  },
  {
   "cell_type": "code",
   "execution_count": null,
   "id": "4dfa3a63",
   "metadata": {},
   "outputs": [],
   "source": []
  }
 ],
 "metadata": {
  "kernelspec": {
   "display_name": "Python 3 (ipykernel)",
   "language": "python",
   "name": "python3"
  },
  "language_info": {
   "codemirror_mode": {
    "name": "ipython",
    "version": 3
   },
   "file_extension": ".py",
   "mimetype": "text/x-python",
   "name": "python",
   "nbconvert_exporter": "python",
   "pygments_lexer": "ipython3",
   "version": "3.9.6"
  },
  "toc": {
   "base_numbering": 1,
   "nav_menu": {},
   "number_sections": true,
   "sideBar": true,
   "skip_h1_title": false,
   "title_cell": "Table of Contents",
   "title_sidebar": "Contents",
   "toc_cell": false,
   "toc_position": {},
   "toc_section_display": true,
   "toc_window_display": false
  },
  "varInspector": {
   "cols": {
    "lenName": 16,
    "lenType": 16,
    "lenVar": 40
   },
   "kernels_config": {
    "python": {
     "delete_cmd_postfix": "",
     "delete_cmd_prefix": "del ",
     "library": "var_list.py",
     "varRefreshCmd": "print(var_dic_list())"
    },
    "r": {
     "delete_cmd_postfix": ") ",
     "delete_cmd_prefix": "rm(",
     "library": "var_list.r",
     "varRefreshCmd": "cat(var_dic_list()) "
    }
   },
   "types_to_exclude": [
    "module",
    "function",
    "builtin_function_or_method",
    "instance",
    "_Feature"
   ],
   "window_display": false
  }
 },
 "nbformat": 4,
 "nbformat_minor": 5
}
