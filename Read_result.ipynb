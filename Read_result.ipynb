{
 "cells": [
  {
   "cell_type": "code",
   "execution_count": null,
   "id": "bea1abbe",
   "metadata": {
    "ExecuteTime": {
     "end_time": "2022-01-22T09:49:18.942595Z",
     "start_time": "2022-01-22T09:49:14.960454Z"
    }
   },
   "outputs": [],
   "source": [
    "import h5py\n",
    "import numpy as np\n",
    "import pandas as pd\n",
    "from scipy import sparse\n",
    "import matplotlib.pyplot as plt\n",
    "import caiman as cm\n",
    "import json\n",
    "from caiman.utils.visualization import get_contours"
   ]
  },
  {
   "cell_type": "code",
   "execution_count": null,
   "id": "4736b6dd",
   "metadata": {
    "ExecuteTime": {
     "end_time": "2022-01-22T09:49:18.945066Z",
     "start_time": "2022-01-22T09:49:18.943512Z"
    }
   },
   "outputs": [],
   "source": [
    "directory = '/media/david/hdd1/David_GCAMP/20220119'\n",
    "filename = 'file_00013'"
   ]
  },
  {
   "cell_type": "code",
   "execution_count": null,
   "id": "dab31acc",
   "metadata": {
    "ExecuteTime": {
     "end_time": "2022-01-22T09:49:19.034812Z",
     "start_time": "2022-01-22T09:49:18.946244Z"
    }
   },
   "outputs": [],
   "source": [
    "#Read tag file\n",
    "dict_name = directory+'/tag/'+filename+'.json'\n",
    "with open(dict_name, 'r') as f:\n",
    "    tag = json.load(f)\n",
    "display_tag = tag.copy()\n",
    "display_tag.pop('metadata')\n",
    "#display_tag.pop('frameTimestamps')\n",
    "#display_tag.pop('frameStimulus')\n",
    "frameStimulus = np.array(tag['frameStimulus'])\n",
    "frameTimestamps = np.array(tag['frameTimestamps'])\n",
    "print(display_tag)"
   ]
  },
  {
   "cell_type": "code",
   "execution_count": null,
   "id": "6268299c",
   "metadata": {
    "ExecuteTime": {
     "end_time": "2022-01-22T09:49:19.038580Z",
     "start_time": "2022-01-22T09:49:19.035894Z"
    }
   },
   "outputs": [],
   "source": [
    "#Read results\n",
    "num_slice = 1\n",
    "name = directory+'/preprocess/'+filename+'_'+str(num_slice)+'.hdf5'\n",
    "cnm2 = h5py.File(name,'r')"
   ]
  },
  {
   "cell_type": "code",
   "execution_count": null,
   "id": "4a16c6e5",
   "metadata": {
    "ExecuteTime": {
     "end_time": "2022-01-22T09:49:19.041126Z",
     "start_time": "2022-01-22T09:49:19.039596Z"
    }
   },
   "outputs": [],
   "source": [
    "#fname_new = '/media/david/hdd1/David_GCAMP/20210820/sliced_data/memmap__d1_512_d2_512_d3_1_order_C_frames_1000_.mmap'\n",
    "#Yr, dims, T = cm.load_memmap(fname_new)\n",
    "#images = np.reshape(Yr.T, [T] + list(dims), order='F') "
   ]
  },
  {
   "cell_type": "code",
   "execution_count": null,
   "id": "c8212f16",
   "metadata": {
    "ExecuteTime": {
     "end_time": "2022-01-22T09:49:19.046050Z",
     "start_time": "2022-01-22T09:49:19.042191Z"
    }
   },
   "outputs": [],
   "source": [
    "cnm2['estimates'].keys()"
   ]
  },
  {
   "cell_type": "code",
   "execution_count": null,
   "id": "57c9f61e",
   "metadata": {
    "ExecuteTime": {
     "end_time": "2022-01-22T09:49:29.381879Z",
     "start_time": "2022-01-22T09:49:19.047042Z"
    }
   },
   "outputs": [],
   "source": [
    "#shape, indices, indptr, data are used to produce sparse matrix A\n",
    "shape = cnm2['estimates']['A']['shape'][:]\n",
    "indices = cnm2['estimates']['A']['indices'][:]\n",
    "indptr = cnm2['estimates']['A']['indptr'][:]\n",
    "data = cnm2['estimates']['A']['data'][:]\n",
    "#Shape of the picture (pixel*pixel)\n",
    "dims = cnm2['dims'][:]\n",
    "#Spatial component (num of pixel^2,num of components)\n",
    "A = sparse.csr_matrix((data, indices, indptr),shape=(shape[1],shape[0])).transpose()\n",
    "#Temporal component (num of components, time steps)\n",
    "C = cnm2['estimates']['C'][:]\n",
    "#Background spatial component (num of pixel^2,num of components)\n",
    "b = cnm2['estimates']['b'][:]\n",
    "#Background temporal component (num of background components, time steps)\n",
    "f = cnm2['estimates']['f'][:]\n",
    "#A.dot(C) is spatial-temporal component of neurons, b.dot(f) is spatial-temporal component of background\n",
    "denoised = (A.dot(C)+b.dot(f)).reshape((dims[0],dims[1])+(-1,),order='F').transpose([2, 0, 1])#denoised movie\n",
    "denoised_only_neuron = (A.dot(C)).reshape((dims[0],dims[1])+(-1,),order='F').transpose([2, 0, 1])#denoised total neurons\n",
    "#np.save(directory+'/denoise/''+'denoise_'+filename,denoised)\n",
    "\n",
    "#Residual components\n",
    "YrA = cnm2['estimates']['YrA'][:]\n",
    "\n",
    "#Deconvolved neural activity (spikes)\n",
    "S = cnm2['estimates']['S'][:]\n",
    "\n",
    "#DF/F normalized temporal compoment\n",
    "#F_dff = cnm2['estimates']['F_dff'][:]\n",
    "\n",
    "#Center of Mass and Neuron shape\n",
    "coordinate = get_contours(A, dims, thr=0.9)\n",
    "\n"
   ]
  },
  {
   "cell_type": "code",
   "execution_count": null,
   "id": "86a4daab",
   "metadata": {
    "ExecuteTime": {
     "end_time": "2022-01-22T09:49:30.487722Z",
     "start_time": "2022-01-22T09:49:29.382820Z"
    }
   },
   "outputs": [],
   "source": [
    "#%% Extract DF/F values---Without YrA(Residual components)\n",
    "#I think f_dff is better than F_dff, but F_dff is closer to real data\n",
    "FrameRate = tag['FrameRate']\n",
    "sliding_time = 8\n",
    "F_dff = cm.source_extraction.cnmf.utilities.detrend_df_f(A, b, C, f,YrA=YrA,quantileMin=10,frames_window=int(sliding_time*FrameRate),flag_auto=True)\n",
    "f_dff = cm.source_extraction.cnmf.utilities.detrend_df_f(A, b, C, f,YrA=None,quantileMin=10,frames_window=int(sliding_time*FrameRate),flag_auto=False)\n",
    "#quantile_min:quantile used to estimate the baseline (values in [0,100])\n",
    "#frames_window:number of frames for computing running quantile\n",
    "#flag_auto: bool, flag for determining quantile automatically"
   ]
  },
  {
   "cell_type": "code",
   "execution_count": null,
   "id": "370856c8",
   "metadata": {
    "ExecuteTime": {
     "end_time": "2022-01-22T09:49:32.777770Z",
     "start_time": "2022-01-22T09:49:30.488584Z"
    }
   },
   "outputs": [],
   "source": [
    "#Num of qunalified components\n",
    "num_components = A.shape[1]\n",
    "print('The number of components is '+str(num_components))\n",
    "#spatial components\n",
    "i = 1#i-th compoment, which means i-th neurons\n",
    "for i in range(num_components):\n",
    "    \n",
    "    #plt.figure(); plt.imshow(np.reshape(A[:,i-1].toarray(), dims, order='F'))\n",
    "    #plt.title('Spatial components')\n",
    "    \n",
    "    #Temporal components\n",
    "    #plt.figure(); plt.plot(C[i-1])\n",
    "    #plt.title('Temporal components')\n",
    "    #plt.savefig(directory+'/preprocess/'+'temporal_'+filename+'_'+str(num_slice)+'_'+str(i)+'.jpg')\n",
    "    #Deconvolved neural activity (spikes)\n",
    "    #plt.figure();plt.plot(S[i-1,:])\n",
    "    #DF/F normalized temporal compoment\n",
    "    #plt.figure();plt.plot(F_dff[i-1,:])\n",
    "    #plt.title('DF/F ')\n",
    "    #plt.savefig(directory+'/preprocess/'+'DF_F_'+filename+'_'+str(num_slice)+'_'+str(i)+'.jpg')\n",
    "    #DF/F normalized temporal compoment without Residual components (lower noises)\n",
    "    #plt.figure();plt.plot(f_dff[i-1,:])\n",
    "    #plt.title('dF/F')#Without noise\n",
    "    \n",
    "    \n",
    "    plt.figure()\n",
    "    plt.subplot(211)\n",
    "    plt.plot(frameTimestamps[0,:],frameStimulus[0,:])\n",
    "    plt.subplot(212)\n",
    "    plt.plot(frameTimestamps[0,:],f_dff[i-1,:])\n",
    "    \n",
    "    plt.savefig(directory+'/preprocess/'+'dF_F_'+filename+'_'+str(num_slice)+'_'+str(i)+'.jpg')\n",
    "    "
   ]
  },
  {
   "cell_type": "code",
   "execution_count": null,
   "id": "05e5a0ca",
   "metadata": {},
   "outputs": [],
   "source": []
  }
 ],
 "metadata": {
  "kernelspec": {
   "display_name": "Python 3 (ipykernel)",
   "language": "python",
   "name": "python3"
  },
  "language_info": {
   "codemirror_mode": {
    "name": "ipython",
    "version": 3
   },
   "file_extension": ".py",
   "mimetype": "text/x-python",
   "name": "python",
   "nbconvert_exporter": "python",
   "pygments_lexer": "ipython3",
   "version": "3.9.6"
  },
  "toc": {
   "base_numbering": 1,
   "nav_menu": {},
   "number_sections": true,
   "sideBar": true,
   "skip_h1_title": false,
   "title_cell": "Table of Contents",
   "title_sidebar": "Contents",
   "toc_cell": false,
   "toc_position": {},
   "toc_section_display": true,
   "toc_window_display": false
  },
  "varInspector": {
   "cols": {
    "lenName": 16,
    "lenType": 16,
    "lenVar": 40
   },
   "kernels_config": {
    "python": {
     "delete_cmd_postfix": "",
     "delete_cmd_prefix": "del ",
     "library": "var_list.py",
     "varRefreshCmd": "print(var_dic_list())"
    },
    "r": {
     "delete_cmd_postfix": ") ",
     "delete_cmd_prefix": "rm(",
     "library": "var_list.r",
     "varRefreshCmd": "cat(var_dic_list()) "
    }
   },
   "types_to_exclude": [
    "module",
    "function",
    "builtin_function_or_method",
    "instance",
    "_Feature"
   ],
   "window_display": false
  }
 },
 "nbformat": 4,
 "nbformat_minor": 5
}
